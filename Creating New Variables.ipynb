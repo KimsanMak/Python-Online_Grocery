{
 "cells": [
  {
   "cell_type": "markdown",
   "id": "163b1906",
   "metadata": {},
   "source": [
    "# This script contains the following contents:\n",
    "## 1. Import libraries and data sets\n",
    "## 2. Deriving variables using If-statements with user defined functions\n",
    "## 3. Use Matplotlib to plot charts"
   ]
  },
  {
   "cell_type": "markdown",
   "id": "e5a5ce84",
   "metadata": {},
   "source": [
    "### 1. Import Libraries and data sets"
   ]
  },
  {
   "cell_type": "code",
   "execution_count": 1,
   "id": "6ed09dd8",
   "metadata": {},
   "outputs": [],
   "source": [
    "# Import Libraries\n",
    "\n",
    "import pandas as pd\n",
    "import numpy as np\n",
    "import os\n",
    "import pickle\n",
    "import os\n",
    "import matplotlib.pyplot as plt "
   ]
  },
  {
   "cell_type": "code",
   "execution_count": 2,
   "id": "83348264",
   "metadata": {},
   "outputs": [],
   "source": [
    "path = r'C:\\Users\\ksmak\\Desktop\\CareerFoundary\\Instacart Basket'"
   ]
  },
  {
   "cell_type": "code",
   "execution_count": 3,
   "id": "c68aac99",
   "metadata": {},
   "outputs": [],
   "source": [
    "#Import pickle file using stacking command of os.path.join()\n",
    "\n",
    "df_ords_prods_merged = pd.read_pickle(os.path.join(path, '02 Data', 'Working Data', 'ords_prods_merged.pkl'))"
   ]
  },
  {
   "cell_type": "code",
   "execution_count": 4,
   "id": "ca9d5c8d",
   "metadata": {},
   "outputs": [
    {
     "data": {
      "text/plain": [
       "(32404859, 14)"
      ]
     },
     "execution_count": 4,
     "metadata": {},
     "output_type": "execute_result"
    }
   ],
   "source": [
    "df_ords_prods_merged.shape"
   ]
  },
  {
   "cell_type": "code",
   "execution_count": 5,
   "id": "a30785ad",
   "metadata": {},
   "outputs": [],
   "source": [
    "# Create a subset\n",
    "\n",
    "df = df_ords_prods_merged[:1000000]"
   ]
  },
  {
   "cell_type": "code",
   "execution_count": 6,
   "id": "f2b4972a",
   "metadata": {},
   "outputs": [
    {
     "data": {
      "text/plain": [
       "(1000000, 14)"
      ]
     },
     "execution_count": 6,
     "metadata": {},
     "output_type": "execute_result"
    }
   ],
   "source": [
    "df.shape"
   ]
  },
  {
   "cell_type": "markdown",
   "id": "7ecc2797",
   "metadata": {},
   "source": [
    "### 2.1 Deriving variables using User Defined Function, \"if, elif, and, else, return\" statements"
   ]
  },
  {
   "cell_type": "code",
   "execution_count": 7,
   "id": "756f11ed",
   "metadata": {},
   "outputs": [],
   "source": [
    "# Deriving variables \"price_label\"\n",
    "\n",
    "def price_label(row):\n",
    "\n",
    "  if row['prices'] <= 5:\n",
    "    return 'Low-range product'\n",
    "  elif (row['prices'] > 5) and (row['prices'] <= 15):\n",
    "    return 'Mid-range product'\n",
    "  elif row['prices'] > 15:\n",
    "    return 'High-range product'\n",
    "  else: return 'Not enough data'"
   ]
  },
  {
   "cell_type": "code",
   "execution_count": 8,
   "id": "fbded6bd",
   "metadata": {},
   "outputs": [
    {
     "name": "stderr",
     "output_type": "stream",
     "text": [
      "C:\\Users\\ksmak\\AppData\\Local\\Temp\\ipykernel_88712\\93659844.py:3: SettingWithCopyWarning: \n",
      "A value is trying to be set on a copy of a slice from a DataFrame.\n",
      "Try using .loc[row_indexer,col_indexer] = value instead\n",
      "\n",
      "See the caveats in the documentation: https://pandas.pydata.org/pandas-docs/stable/user_guide/indexing.html#returning-a-view-versus-a-copy\n",
      "  df['price_range'] = df.apply(price_label, axis=1)\n"
     ]
    }
   ],
   "source": [
    "# Apply the function that search through the entire datafarme\n",
    "\n",
    "df['price_range'] = df.apply(price_label, axis=1)"
   ]
  },
  {
   "cell_type": "code",
   "execution_count": 9,
   "id": "3145cfd8",
   "metadata": {},
   "outputs": [
    {
     "data": {
      "text/plain": [
       "price_range\n",
       "Mid-range product    983807\n",
       "Low-range product     16193\n",
       "Name: count, dtype: int64"
      ]
     },
     "execution_count": 9,
     "metadata": {},
     "output_type": "execute_result"
    }
   ],
   "source": [
    "df['price_range'].value_counts(dropna = False)"
   ]
  },
  {
   "cell_type": "code",
   "execution_count": 10,
   "id": "1a28b3ef",
   "metadata": {},
   "outputs": [
    {
     "data": {
      "text/plain": [
       "13.7"
      ]
     },
     "execution_count": 10,
     "metadata": {},
     "output_type": "execute_result"
    }
   ],
   "source": [
    "df['prices'].max()"
   ]
  },
  {
   "cell_type": "markdown",
   "id": "74747bdf",
   "metadata": {},
   "source": [
    "### 2.2 Deriving variables using loc() function without if-else"
   ]
  },
  {
   "cell_type": "code",
   "execution_count": 11,
   "id": "d440628d",
   "metadata": {},
   "outputs": [
    {
     "name": "stderr",
     "output_type": "stream",
     "text": [
      "C:\\Users\\ksmak\\AppData\\Local\\Temp\\ipykernel_88712\\1169838859.py:1: SettingWithCopyWarning: \n",
      "A value is trying to be set on a copy of a slice from a DataFrame.\n",
      "Try using .loc[row_indexer,col_indexer] = value instead\n",
      "\n",
      "See the caveats in the documentation: https://pandas.pydata.org/pandas-docs/stable/user_guide/indexing.html#returning-a-view-versus-a-copy\n",
      "  df.loc[df['prices'] > 15, 'price_range_loc'] = 'High-range product'\n"
     ]
    }
   ],
   "source": [
    "# loc[] a particular column in the dataframe\n",
    "\n",
    "df.loc[df['prices'] > 15, 'price_range_loc'] = 'High-range product'"
   ]
  },
  {
   "cell_type": "code",
   "execution_count": 12,
   "id": "0333aa29",
   "metadata": {},
   "outputs": [],
   "source": [
    "df.loc[(df['prices'] <= 15) & (df['prices'] > 5), 'price_range_loc'] = 'Mid-range product'"
   ]
  },
  {
   "cell_type": "code",
   "execution_count": 13,
   "id": "8a3cf3a7",
   "metadata": {},
   "outputs": [],
   "source": [
    "df.loc[df['prices'] < 5, 'price_range_loc'] = 'Low-range product'"
   ]
  },
  {
   "cell_type": "code",
   "execution_count": 14,
   "id": "93410348",
   "metadata": {},
   "outputs": [
    {
     "data": {
      "text/plain": [
       "price_range_loc\n",
       "Mid-range product    983807\n",
       "Low-range product     11733\n",
       "nan                    4460\n",
       "Name: count, dtype: int64"
      ]
     },
     "execution_count": 14,
     "metadata": {},
     "output_type": "execute_result"
    }
   ],
   "source": [
    "df['price_range_loc'].value_counts(dropna = False)"
   ]
  },
  {
   "cell_type": "markdown",
   "id": "cd073db8",
   "metadata": {},
   "source": [
    "#### nan = 4460 is not detected using \"IF, ELSE\" statements!"
   ]
  },
  {
   "cell_type": "markdown",
   "id": "6f0f51cc",
   "metadata": {},
   "source": [
    "### 2.3 Repeat the loc() function on the entire dataframe"
   ]
  },
  {
   "cell_type": "code",
   "execution_count": 39,
   "id": "19904784",
   "metadata": {},
   "outputs": [],
   "source": [
    "# create product price groupings\n",
    "\n",
    "df_ords_prods_merged.loc[df_ords_prods_merged['prices'] > 15, 'price_range_loc'] = 'High-range (>$15)'\n",
    "df_ords_prods_merged.loc[(df_ords_prods_merged['prices'] <= 15) & (df_ords_prods_merged['prices'] >= 9), 'price_range_loc'] = 'Mid-range (\\$9-\\$15)'\n",
    "df_ords_prods_merged.loc[df_ords_prods_merged['prices'] < 9, 'price_range_loc'] = 'Low-range (<$9)'"
   ]
  },
  {
   "cell_type": "code",
   "execution_count": 40,
   "id": "9ad90974",
   "metadata": {},
   "outputs": [],
   "source": [
    "# Create new column \"price_range_loc\" in df_ords_prods_merged\n",
    "\n",
    "price_range_count = df_ords_prods_merged['price_range_loc'].value_counts(dropna = False)"
   ]
  },
  {
   "cell_type": "code",
   "execution_count": 41,
   "id": "048ecfa4",
   "metadata": {},
   "outputs": [],
   "source": [
    "# Remove scientific notation\n",
    "\n",
    "pd.set_option('display.float_format', lambda x: '%.2f' % x)"
   ]
  },
  {
   "cell_type": "markdown",
   "id": "474a2d0e",
   "metadata": {},
   "source": [
    "### 3.1 Use Matplotlib to plot charts"
   ]
  },
  {
   "cell_type": "code",
   "execution_count": 42,
   "id": "5c175ab3",
   "metadata": {},
   "outputs": [
    {
     "data": {
      "image/png": "[encoded data removed]",
      "text/plain": [
       "<Figure size 800x300 with 1 Axes>"
      ]
     },
     "metadata": {},
     "output_type": "display_data"
    }
   ],
   "source": [
    "# Plot horizontal bar chart for product price range\n",
    "\n",
    "# Set the size of the figure\n",
    "plt.figure(figsize=(8, 3))  # Adjust width and height as needed\n",
    "\n",
    "# Plot Horizontal Bar Chart for product price range\n",
    "price_range_count_bar = price_range_count.plot.barh(\n",
    "    title='Distribution of Product Price Range', xlabel='Count of Product Price', ylabel='Price Range', color='#06C2AC')\n",
    "\n",
    "# Format x-axis tick labels without scientific notation\n",
    "plt.ticklabel_format(style='plain', axis='x')\n",
    "\n",
    "# Remove the y-axis label\n",
    "plt.ylabel('') \n",
    "\n",
    "plt.tight_layout()\n",
    "\n",
    "plt.savefig(os.path.join(path, '04 Analysis', 'Visualizations', 'top 10 departments with customer profile.png'))\n",
    "\n",
    "# Show the plot\n",
    "plt.show()"
   ]
  },
  {
   "cell_type": "code",
   "execution_count": 12,
   "id": "8306751e",
   "metadata": {},
   "outputs": [
    {
     "data": {
      "image/png": "[encoded data removed]",
      "text/plain": [
       "<Figure size 640x480 with 1 Axes>"
      ]
     },
     "metadata": {},
     "output_type": "display_data"
    }
   ],
   "source": [
    "# Plot vertical bar chart for product price range\n",
    "\n",
    "price_range_count.plot.bar()\n",
    "plt.title ('Distribution of Product Price Range')\n",
    "plt.xlabel ('Price Range')\n",
    "plt.ylabel ('Count of Prices')\n",
    "\n",
    "plt.savefig(os.path.join(path, '04 Analysis', 'Visualizations', 'distribution of product price range.png'))\n",
    "\n",
    "plt.show ()"
   ]
  },
  {
   "cell_type": "code",
   "execution_count": 4,
   "id": "31982f45",
   "metadata": {},
   "outputs": [
    {
     "data": {
      "text/plain": [
       "order_day_of_week\n",
       "0    6204182\n",
       "1    5660230\n",
       "6    4496490\n",
       "2    4213830\n",
       "5    4205791\n",
       "3    3840534\n",
       "4    3783802\n",
       "Name: count, dtype: int64"
      ]
     },
     "execution_count": 4,
     "metadata": {},
     "output_type": "execute_result"
    }
   ],
   "source": [
    "# Count frequency of order\n",
    "\n",
    "df_ords_prods_merged['order_day_of_week'].value_counts(dropna = False)"
   ]
  },
  {
   "cell_type": "code",
   "execution_count": 5,
   "id": "1d90f688",
   "metadata": {},
   "outputs": [],
   "source": [
    "busiest_days_counts = df_ords_prods_merged['order_day_of_week'].value_counts(dropna = False)"
   ]
  },
  {
   "cell_type": "code",
   "execution_count": 13,
   "id": "811fc73c",
   "metadata": {},
   "outputs": [
    {
     "data": {
      "image/png": "[encoded data removed]",
      "text/plain": [
       "<Figure size 640x480 with 1 Axes>"
      ]
     },
     "metadata": {},
     "output_type": "display_data"
    }
   ],
   "source": [
    "# Plot vertical bar chart for number of orders by day\n",
    "\n",
    "busiest_days_counts.plot.bar()\n",
    "plt.title ('Number of Orders by Day')\n",
    "plt.xlabel ('Day of the Week')\n",
    "plt.ylabel ('Number of orders')\n",
    "\n",
    "plt.savefig(os.path.join(path, '04 Analysis', 'Visualizations', 'busiest days.png'))\n",
    "plt.show ()"
   ]
  },
  {
   "cell_type": "markdown",
   "id": "b5078240",
   "metadata": {},
   "source": [
    "#### 0=Saturday is the busiest, and 4=Wednesday is the slowest day"
   ]
  },
  {
   "cell_type": "code",
   "execution_count": 44,
   "id": "17a8eba6",
   "metadata": {},
   "outputs": [],
   "source": [
    "# Use For-Loops to group days into 3 categories, and only searh at ONE column\n",
    "# FASTER than user-defined function\n",
    "\n",
    "result = []\n",
    "\n",
    "for value in df_ords_prods_merged['order_day_of_week']:\n",
    "  if value == 0:\n",
    "    result.append('Busiest day')\n",
    "  elif value == 4:\n",
    "    result.append('Least busy')\n",
    "  else:\n",
    "    result.append('Regularly busy')"
   ]
  },
  {
   "cell_type": "code",
   "execution_count": 45,
   "id": "739f93b9",
   "metadata": {},
   "outputs": [],
   "source": [
    "# Create new column \"busiest_day\"\n",
    "\n",
    "df_ords_prods_merged['busiest_day'] = result"
   ]
  },
  {
   "cell_type": "code",
   "execution_count": 46,
   "id": "8e3aa8d0",
   "metadata": {},
   "outputs": [
    {
     "data": {
      "text/plain": [
       "busiest_day\n",
       "Regularly busy    22416875\n",
       "Busiest day        6204182\n",
       "Least busy         3783802\n",
       "Name: count, dtype: int64"
      ]
     },
     "execution_count": 46,
     "metadata": {},
     "output_type": "execute_result"
    }
   ],
   "source": [
    "df_ords_prods_merged['busiest_day'].value_counts(dropna = False)"
   ]
  },
  {
   "cell_type": "markdown",
   "id": "cd826465",
   "metadata": {},
   "source": [
    "## Excercise Ex4.7"
   ]
  },
  {
   "cell_type": "markdown",
   "id": "8a41ac21",
   "metadata": {},
   "source": [
    "### Question 2: Create new column \"busiest_days\" for day_of_week = 0 and 1, and add day_of_week = 3 into Least Busy"
   ]
  },
  {
   "cell_type": "code",
   "execution_count": null,
   "id": "b7a61fcb",
   "metadata": {},
   "outputs": [],
   "source": [
    "# Use For-Loops to group days into 3 categories, and only searh at ONE column\n",
    "# FASTER than user-defined function\n",
    "\n",
    "result1 = []\n",
    "\n",
    "for value in df_ords_prods_merged['order_day_of_week']:\n",
    "  if value == 0 or value == 1:\n",
    "    result1.append('Busiest days')\n",
    "  elif value == 4 or value == 3:\n",
    "    result1.append('Least busy')\n",
    "  else:\n",
    "    result1.append('Regularly busy')"
   ]
  },
  {
   "cell_type": "code",
   "execution_count": 57,
   "id": "ad0131fc",
   "metadata": {},
   "outputs": [],
   "source": [
    "# Create new column \"busiest_days\"\n",
    "\n",
    "df_ords_prods_merged['busiest_days'] = result1"
   ]
  },
  {
   "cell_type": "code",
   "execution_count": 58,
   "id": "45b69b6d",
   "metadata": {},
   "outputs": [
    {
     "data": {
      "text/plain": [
       "busiest_days\n",
       "Regularly busy    12916111\n",
       "Busiest days      11864412\n",
       "Least busy         7624336\n",
       "Name: count, dtype: int64"
      ]
     },
     "execution_count": 58,
     "metadata": {},
     "output_type": "execute_result"
    }
   ],
   "source": [
    "df_ords_prods_merged['busiest_days'].value_counts(dropna = False)"
   ]
  },
  {
   "cell_type": "code",
   "execution_count": null,
   "id": "e2a48273",
   "metadata": {},
   "outputs": [],
   "source": [
    "df_ords_prods_merged.head()"
   ]
  },
  {
   "cell_type": "code",
   "execution_count": 61,
   "id": "ac3f43e8",
   "metadata": {},
   "outputs": [
    {
     "data": {
      "text/html": [
       "<div>\n",
       "<style scoped>\n",
       "    .dataframe tbody tr th:only-of-type {\n",
       "        vertical-align: middle;\n",
       "    }\n",
       "\n",
       "    .dataframe tbody tr th {\n",
       "        vertical-align: top;\n",
       "    }\n",
       "\n",
       "    .dataframe thead th {\n",
       "        text-align: right;\n",
       "    }\n",
       "</style>\n",
       "<table border=\"1\" class=\"dataframe\">\n",
       "  <thead>\n",
       "    <tr style=\"text-align: right;\">\n",
       "      <th></th>\n",
       "      <th>order_id</th>\n",
       "      <th>product_id</th>\n",
       "      <th>add_to_cart_order</th>\n",
       "      <th>reordered</th>\n",
       "      <th>user_id</th>\n",
       "      <th>order_number</th>\n",
       "      <th>order_day_of_week</th>\n",
       "      <th>order_time_24h</th>\n",
       "      <th>days_since_prior_order</th>\n",
       "      <th>product_name</th>\n",
       "      <th>aisle_id</th>\n",
       "      <th>department_id</th>\n",
       "      <th>prices</th>\n",
       "      <th>True</th>\n",
       "      <th>price_range_loc</th>\n",
       "      <th>busiest_day</th>\n",
       "      <th>busiest_days</th>\n",
       "    </tr>\n",
       "  </thead>\n",
       "  <tbody>\n",
       "    <tr>\n",
       "      <th>0</th>\n",
       "      <td>2</td>\n",
       "      <td>33120</td>\n",
       "      <td>1</td>\n",
       "      <td>1</td>\n",
       "      <td>202279</td>\n",
       "      <td>3</td>\n",
       "      <td>5</td>\n",
       "      <td>9</td>\n",
       "      <td>8.0</td>\n",
       "      <td>Organic Egg Whites</td>\n",
       "      <td>86</td>\n",
       "      <td>16</td>\n",
       "      <td>11.3</td>\n",
       "      <td>both</td>\n",
       "      <td>Mid-range product</td>\n",
       "      <td>Regularly busy</td>\n",
       "      <td>Regularly busy</td>\n",
       "    </tr>\n",
       "    <tr>\n",
       "      <th>1</th>\n",
       "      <td>26</td>\n",
       "      <td>33120</td>\n",
       "      <td>5</td>\n",
       "      <td>0</td>\n",
       "      <td>153404</td>\n",
       "      <td>2</td>\n",
       "      <td>0</td>\n",
       "      <td>16</td>\n",
       "      <td>7.0</td>\n",
       "      <td>Organic Egg Whites</td>\n",
       "      <td>86</td>\n",
       "      <td>16</td>\n",
       "      <td>11.3</td>\n",
       "      <td>both</td>\n",
       "      <td>Mid-range product</td>\n",
       "      <td>Busiest day</td>\n",
       "      <td>Busiest days</td>\n",
       "    </tr>\n",
       "    <tr>\n",
       "      <th>4</th>\n",
       "      <td>390</td>\n",
       "      <td>33120</td>\n",
       "      <td>28</td>\n",
       "      <td>1</td>\n",
       "      <td>166654</td>\n",
       "      <td>48</td>\n",
       "      <td>0</td>\n",
       "      <td>12</td>\n",
       "      <td>9.0</td>\n",
       "      <td>Organic Egg Whites</td>\n",
       "      <td>86</td>\n",
       "      <td>16</td>\n",
       "      <td>11.3</td>\n",
       "      <td>both</td>\n",
       "      <td>Mid-range product</td>\n",
       "      <td>Busiest day</td>\n",
       "      <td>Busiest days</td>\n",
       "    </tr>\n",
       "    <tr>\n",
       "      <th>7</th>\n",
       "      <td>608</td>\n",
       "      <td>33120</td>\n",
       "      <td>5</td>\n",
       "      <td>1</td>\n",
       "      <td>91030</td>\n",
       "      <td>11</td>\n",
       "      <td>3</td>\n",
       "      <td>21</td>\n",
       "      <td>12.0</td>\n",
       "      <td>Organic Egg Whites</td>\n",
       "      <td>86</td>\n",
       "      <td>16</td>\n",
       "      <td>11.3</td>\n",
       "      <td>both</td>\n",
       "      <td>Mid-range product</td>\n",
       "      <td>Regularly busy</td>\n",
       "      <td>Least busy</td>\n",
       "    </tr>\n",
       "    <tr>\n",
       "      <th>8</th>\n",
       "      <td>623</td>\n",
       "      <td>33120</td>\n",
       "      <td>1</td>\n",
       "      <td>1</td>\n",
       "      <td>37804</td>\n",
       "      <td>63</td>\n",
       "      <td>3</td>\n",
       "      <td>12</td>\n",
       "      <td>3.0</td>\n",
       "      <td>Organic Egg Whites</td>\n",
       "      <td>86</td>\n",
       "      <td>16</td>\n",
       "      <td>11.3</td>\n",
       "      <td>both</td>\n",
       "      <td>Mid-range product</td>\n",
       "      <td>Regularly busy</td>\n",
       "      <td>Least busy</td>\n",
       "    </tr>\n",
       "    <tr>\n",
       "      <th>...</th>\n",
       "      <td>...</td>\n",
       "      <td>...</td>\n",
       "      <td>...</td>\n",
       "      <td>...</td>\n",
       "      <td>...</td>\n",
       "      <td>...</td>\n",
       "      <td>...</td>\n",
       "      <td>...</td>\n",
       "      <td>...</td>\n",
       "      <td>...</td>\n",
       "      <td>...</td>\n",
       "      <td>...</td>\n",
       "      <td>...</td>\n",
       "      <td>...</td>\n",
       "      <td>...</td>\n",
       "      <td>...</td>\n",
       "      <td>...</td>\n",
       "    </tr>\n",
       "    <tr>\n",
       "      <th>32404854</th>\n",
       "      <td>3265099</td>\n",
       "      <td>43492</td>\n",
       "      <td>3</td>\n",
       "      <td>0</td>\n",
       "      <td>111311</td>\n",
       "      <td>2</td>\n",
       "      <td>3</td>\n",
       "      <td>10</td>\n",
       "      <td>5.0</td>\n",
       "      <td>Gourmet Burger Seasoning</td>\n",
       "      <td>104</td>\n",
       "      <td>13</td>\n",
       "      <td>4.8</td>\n",
       "      <td>both</td>\n",
       "      <td>Low-range product</td>\n",
       "      <td>Regularly busy</td>\n",
       "      <td>Least busy</td>\n",
       "    </tr>\n",
       "    <tr>\n",
       "      <th>32404855</th>\n",
       "      <td>3361945</td>\n",
       "      <td>43492</td>\n",
       "      <td>19</td>\n",
       "      <td>0</td>\n",
       "      <td>142932</td>\n",
       "      <td>25</td>\n",
       "      <td>3</td>\n",
       "      <td>10</td>\n",
       "      <td>5.0</td>\n",
       "      <td>Gourmet Burger Seasoning</td>\n",
       "      <td>104</td>\n",
       "      <td>13</td>\n",
       "      <td>4.8</td>\n",
       "      <td>both</td>\n",
       "      <td>Low-range product</td>\n",
       "      <td>Regularly busy</td>\n",
       "      <td>Least busy</td>\n",
       "    </tr>\n",
       "    <tr>\n",
       "      <th>32404856</th>\n",
       "      <td>3267201</td>\n",
       "      <td>33097</td>\n",
       "      <td>2</td>\n",
       "      <td>0</td>\n",
       "      <td>183867</td>\n",
       "      <td>19</td>\n",
       "      <td>3</td>\n",
       "      <td>18</td>\n",
       "      <td>3.0</td>\n",
       "      <td>Piquillo &amp; Jalapeno Bruschetta</td>\n",
       "      <td>81</td>\n",
       "      <td>15</td>\n",
       "      <td>9.4</td>\n",
       "      <td>both</td>\n",
       "      <td>nan</td>\n",
       "      <td>Regularly busy</td>\n",
       "      <td>Least busy</td>\n",
       "    </tr>\n",
       "    <tr>\n",
       "      <th>32404857</th>\n",
       "      <td>3393151</td>\n",
       "      <td>38977</td>\n",
       "      <td>32</td>\n",
       "      <td>0</td>\n",
       "      <td>79056</td>\n",
       "      <td>1</td>\n",
       "      <td>4</td>\n",
       "      <td>13</td>\n",
       "      <td>NaN</td>\n",
       "      <td>Original Jerky</td>\n",
       "      <td>100</td>\n",
       "      <td>21</td>\n",
       "      <td>1.5</td>\n",
       "      <td>both</td>\n",
       "      <td>Low-range product</td>\n",
       "      <td>Least busy</td>\n",
       "      <td>Least busy</td>\n",
       "    </tr>\n",
       "    <tr>\n",
       "      <th>32404858</th>\n",
       "      <td>3400803</td>\n",
       "      <td>23624</td>\n",
       "      <td>7</td>\n",
       "      <td>0</td>\n",
       "      <td>152189</td>\n",
       "      <td>4</td>\n",
       "      <td>3</td>\n",
       "      <td>14</td>\n",
       "      <td>2.0</td>\n",
       "      <td>Flatbread Pizza All Natural</td>\n",
       "      <td>79</td>\n",
       "      <td>1</td>\n",
       "      <td>1.6</td>\n",
       "      <td>both</td>\n",
       "      <td>Low-range product</td>\n",
       "      <td>Regularly busy</td>\n",
       "      <td>Least busy</td>\n",
       "    </tr>\n",
       "  </tbody>\n",
       "</table>\n",
       "<p>23694539 rows × 17 columns</p>\n",
       "</div>"
      ],
      "text/plain": [
       "          order_id  product_id  add_to_cart_order  reordered  user_id  \\\n",
       "0                2       33120                  1          1   202279   \n",
       "1               26       33120                  5          0   153404   \n",
       "4              390       33120                 28          1   166654   \n",
       "7              608       33120                  5          1    91030   \n",
       "8              623       33120                  1          1    37804   \n",
       "...            ...         ...                ...        ...      ...   \n",
       "32404854   3265099       43492                  3          0   111311   \n",
       "32404855   3361945       43492                 19          0   142932   \n",
       "32404856   3267201       33097                  2          0   183867   \n",
       "32404857   3393151       38977                 32          0    79056   \n",
       "32404858   3400803       23624                  7          0   152189   \n",
       "\n",
       "          order_number  order_day_of_week  order_time_24h  \\\n",
       "0                    3                  5               9   \n",
       "1                    2                  0              16   \n",
       "4                   48                  0              12   \n",
       "7                   11                  3              21   \n",
       "8                   63                  3              12   \n",
       "...                ...                ...             ...   \n",
       "32404854             2                  3              10   \n",
       "32404855            25                  3              10   \n",
       "32404856            19                  3              18   \n",
       "32404857             1                  4              13   \n",
       "32404858             4                  3              14   \n",
       "\n",
       "          days_since_prior_order                    product_name  aisle_id  \\\n",
       "0                            8.0              Organic Egg Whites        86   \n",
       "1                            7.0              Organic Egg Whites        86   \n",
       "4                            9.0              Organic Egg Whites        86   \n",
       "7                           12.0              Organic Egg Whites        86   \n",
       "8                            3.0              Organic Egg Whites        86   \n",
       "...                          ...                             ...       ...   \n",
       "32404854                     5.0        Gourmet Burger Seasoning       104   \n",
       "32404855                     5.0        Gourmet Burger Seasoning       104   \n",
       "32404856                     3.0  Piquillo & Jalapeno Bruschetta        81   \n",
       "32404857                     NaN                  Original Jerky       100   \n",
       "32404858                     2.0     Flatbread Pizza All Natural        79   \n",
       "\n",
       "          department_id  prices  True    price_range_loc     busiest_day  \\\n",
       "0                    16    11.3  both  Mid-range product  Regularly busy   \n",
       "1                    16    11.3  both  Mid-range product     Busiest day   \n",
       "4                    16    11.3  both  Mid-range product     Busiest day   \n",
       "7                    16    11.3  both  Mid-range product  Regularly busy   \n",
       "8                    16    11.3  both  Mid-range product  Regularly busy   \n",
       "...                 ...     ...   ...                ...             ...   \n",
       "32404854             13     4.8  both  Low-range product  Regularly busy   \n",
       "32404855             13     4.8  both  Low-range product  Regularly busy   \n",
       "32404856             15     9.4  both                nan  Regularly busy   \n",
       "32404857             21     1.5  both  Low-range product      Least busy   \n",
       "32404858              1     1.6  both  Low-range product  Regularly busy   \n",
       "\n",
       "            busiest_days  \n",
       "0         Regularly busy  \n",
       "1           Busiest days  \n",
       "4           Busiest days  \n",
       "7             Least busy  \n",
       "8             Least busy  \n",
       "...                  ...  \n",
       "32404854      Least busy  \n",
       "32404855      Least busy  \n",
       "32404856      Least busy  \n",
       "32404857      Least busy  \n",
       "32404858      Least busy  \n",
       "\n",
       "[23694539 rows x 17 columns]"
      ]
     },
     "execution_count": 61,
     "metadata": {},
     "output_type": "execute_result"
    }
   ],
   "source": [
    "df_ords_prods_merged.loc[df_ords_prods_merged['order_day_of_week'].isin([0,1,3,4,5])]"
   ]
  },
  {
   "cell_type": "markdown",
   "id": "d73f7398",
   "metadata": {},
   "source": [
    "#### The frequencies for the 3 categories \"Busiest days\", \"Least busy\" and \"Regularly busy\" change accordingly from \n",
    "\"Regularly busy\"    22416875 to 12916111,\n",
    "\"Busiest day\"        6204182 to 11864412, and \n",
    "\"Least busy\"         3783802 to 7624336"
   ]
  },
  {
   "cell_type": "markdown",
   "id": "f2c3c58b",
   "metadata": {},
   "source": [
    "### Question 4: Create a new column \"busiest_period_of_day\" and group busiest hours of the day into \"Most orders\", \"Average orders\", and \"Fewest orders\""
   ]
  },
  {
   "cell_type": "code",
   "execution_count": 62,
   "id": "a7c2dde7",
   "metadata": {},
   "outputs": [
    {
     "data": {
      "text/plain": [
       "order_time_24h\n",
       "10    2761760\n",
       "11    2736140\n",
       "14    2689136\n",
       "15    2662144\n",
       "13    2660954\n",
       "12    2618532\n",
       "16    2535202\n",
       "9     2454203\n",
       "17    2087654\n",
       "8     1718118\n",
       "18    1636502\n",
       "19    1258305\n",
       "20     976156\n",
       "7      891054\n",
       "21     795637\n",
       "22     634225\n",
       "23     402316\n",
       "6      290493\n",
       "0      218769\n",
       "1      115700\n",
       "5       87961\n",
       "2       69375\n",
       "4       53242\n",
       "3       51281\n",
       "Name: count, dtype: int64"
      ]
     },
     "execution_count": 62,
     "metadata": {},
     "output_type": "execute_result"
    }
   ],
   "source": [
    "df_ords_prods_merged['order_time_24h'].value_counts(dropna = False)"
   ]
  },
  {
   "cell_type": "code",
   "execution_count": 16,
   "id": "b3efc6eb",
   "metadata": {},
   "outputs": [],
   "source": [
    "busiest_hours_counts = df_ords_prods_merged['order_time_24h'].value_counts(dropna = False)"
   ]
  },
  {
   "cell_type": "code",
   "execution_count": 17,
   "id": "df56d00f",
   "metadata": {},
   "outputs": [
    {
     "data": {
      "image/png": "[encoded data removed]",
      "text/plain": [
       "<Figure size 640x480 with 1 Axes>"
      ]
     },
     "metadata": {},
     "output_type": "display_data"
    }
   ],
   "source": [
    "busiest_hours_counts.plot.bar()\n",
    "plt.title ('Number of Orders by Time')\n",
    "plt.xlabel ('Hour of the Day')\n",
    "plt.ylabel ('Number of orders')\n",
    "\n",
    "plt.savefig(os.path.join(path, '04 Analysis', 'Visualizations', 'busiest hours.png'))\n",
    "plt.show ()"
   ]
  },
  {
   "cell_type": "markdown",
   "id": "86df1330",
   "metadata": {},
   "source": [
    "#### The busiest hours of the day are from 9 to 16 hours"
   ]
  },
  {
   "cell_type": "code",
   "execution_count": null,
   "id": "4efa0308",
   "metadata": {},
   "outputs": [],
   "source": []
  },
  {
   "cell_type": "code",
   "execution_count": null,
   "id": "d29c32bb",
   "metadata": {},
   "outputs": [],
   "source": []
  },
  {
   "cell_type": "code",
   "execution_count": 66,
   "id": "9f373e49",
   "metadata": {},
   "outputs": [],
   "source": [
    "# Use For-Loops to group days into 3 categories, and only searh at ONE column\n",
    "# FASTER than user-defined function\n",
    "\n",
    "result2 = []\n",
    "\n",
    "for value in df_ords_prods_merged['order_time_24h']:\n",
    "  if value in range (9,17):\n",
    "    result2.append('Most oders')\n",
    "  elif value in range (2,5):\n",
    "    result2.append('Fewest orders')\n",
    "  else:\n",
    "    result2.append('Average orders')"
   ]
  },
  {
   "cell_type": "code",
   "execution_count": 67,
   "id": "977d83fe",
   "metadata": {},
   "outputs": [],
   "source": [
    "# Create new column \"busiest_period_of_day\"\n",
    "\n",
    "df_ords_prods_merged['busiest_period_of_day'] = result2"
   ]
  },
  {
   "cell_type": "markdown",
   "id": "fe7c595f",
   "metadata": {},
   "source": [
    "#### The frequency of the new column \"busiest_period_of_day\""
   ]
  },
  {
   "cell_type": "code",
   "execution_count": 68,
   "id": "0ded8f35",
   "metadata": {},
   "outputs": [
    {
     "data": {
      "text/plain": [
       "busiest_period_of_day\n",
       "Most oders        21118071\n",
       "Average orders    11112890\n",
       "Fewest orders       173898\n",
       "Name: count, dtype: int64"
      ]
     },
     "execution_count": 68,
     "metadata": {},
     "output_type": "execute_result"
    }
   ],
   "source": [
    "df_ords_prods_merged['busiest_period_of_day'].value_counts(dropna = False)"
   ]
  },
  {
   "cell_type": "code",
   "execution_count": null,
   "id": "438534ca",
   "metadata": {},
   "outputs": [],
   "source": [
    "df_ords_prods_merged.head()"
   ]
  },
  {
   "cell_type": "code",
   "execution_count": null,
   "id": "f608c271",
   "metadata": {},
   "outputs": [],
   "source": [
    "df_ords_prods_merged.tail()"
   ]
  },
  {
   "cell_type": "code",
   "execution_count": 75,
   "id": "e1c62f2a",
   "metadata": {},
   "outputs": [
    {
     "data": {
      "text/plain": [
       "(32404859, 18)"
      ]
     },
     "execution_count": 75,
     "metadata": {},
     "output_type": "execute_result"
    }
   ],
   "source": [
    "df_ords_prods_merged.shape"
   ]
  },
  {
   "cell_type": "markdown",
   "id": "962d867d",
   "metadata": {},
   "source": [
    "#### Export dataframe as a pickle file"
   ]
  },
  {
   "cell_type": "code",
   "execution_count": 74,
   "id": "1abac049",
   "metadata": {},
   "outputs": [],
   "source": [
    "df_ords_prods_merged.to_pickle(os.path.join(path, '02 Data','Working Data', 'ords_prods_merged_ex4_7.pkl'))"
   ]
  }
 ],
 "metadata": {
  "kernelspec": {
   "display_name": "Python 3 (ipykernel)",
   "language": "python",
   "name": "python3"
  },
  "language_info": {
   "codemirror_mode": {
    "name": "ipython",
    "version": 3
   },
   "file_extension": ".py",
   "mimetype": "text/x-python",
   "name": "python",
   "nbconvert_exporter": "python",
   "pygments_lexer": "ipython3",
   "version": "3.11.5"
  }
 },
 "nbformat": 4,
 "nbformat_minor": 5
}
